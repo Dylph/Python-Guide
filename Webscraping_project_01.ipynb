{
  "nbformat": 4,
  "nbformat_minor": 0,
  "metadata": {
    "colab": {
      "provenance": [],
      "authorship_tag": "ABX9TyPNo344FiBoZrO76A5O923y",
      "include_colab_link": true
    },
    "kernelspec": {
      "name": "python3",
      "display_name": "Python 3"
    },
    "language_info": {
      "name": "python"
    }
  },
  "cells": [
    {
      "cell_type": "markdown",
      "metadata": {
        "id": "view-in-github",
        "colab_type": "text"
      },
      "source": [
        "<a href=\"https://colab.research.google.com/github/Dylph/Python-Guide/blob/main/Webscraping_project_01.ipynb\" target=\"_parent\"><img src=\"https://colab.research.google.com/assets/colab-badge.svg\" alt=\"Open In Colab\"/></a>"
      ]
    },
    {
      "cell_type": "code",
      "execution_count": 1,
      "metadata": {
        "id": "0fXuJfNdlxhH"
      },
      "outputs": [],
      "source": [
        "import requests\n",
        "from bs4 import BeautifulSoup\n",
        "import pandas as pd"
      ]
    },
    {
      "cell_type": "code",
      "source": [
        "url = \"http://books.toscrape.com/\"\n",
        "response = requests.get(url)\n",
        "soup = BeautifulSoup(response.text, \"html.parser\")\n",
        "\n",
        "book_titles = [title.a[\"title\"] for title in soup.find_all(\"h3\")]\n",
        "\n",
        "for title in book_titles:\n",
        "    print(title)"
      ],
      "metadata": {
        "colab": {
          "base_uri": "https://localhost:8080/"
        },
        "id": "WIgrseszsbPs",
        "outputId": "4d441896-ce4a-4013-a4c7-4edebb9a971c"
      },
      "execution_count": 2,
      "outputs": [
        {
          "output_type": "stream",
          "name": "stdout",
          "text": [
            "A Light in the Attic\n",
            "Tipping the Velvet\n",
            "Soumission\n",
            "Sharp Objects\n",
            "Sapiens: A Brief History of Humankind\n",
            "The Requiem Red\n",
            "The Dirty Little Secrets of Getting Your Dream Job\n",
            "The Coming Woman: A Novel Based on the Life of the Infamous Feminist, Victoria Woodhull\n",
            "The Boys in the Boat: Nine Americans and Their Epic Quest for Gold at the 1936 Berlin Olympics\n",
            "The Black Maria\n",
            "Starving Hearts (Triangular Trade Trilogy, #1)\n",
            "Shakespeare's Sonnets\n",
            "Set Me Free\n",
            "Scott Pilgrim's Precious Little Life (Scott Pilgrim #1)\n",
            "Rip it Up and Start Again\n",
            "Our Band Could Be Your Life: Scenes from the American Indie Underground, 1981-1991\n",
            "Olio\n",
            "Mesaerion: The Best Science Fiction Stories 1800-1849\n",
            "Libertarianism for Beginners\n",
            "It's Only the Himalayas\n"
          ]
        }
      ]
    },
    {
      "cell_type": "code",
      "source": [
        "book_data = []\n",
        "\n",
        "for book in soup.find_all(\"article\", class_=\"product_pod\"):\n",
        "    title = book.h3.a[\"title\"]\n",
        "    price = book.find(\"p\", class_=\"price_color\").text\n",
        "    price = price.replace('Â£', '$')  # Replace the pound symbol with a dollar sign\n",
        "    rating = book.find(\"p\", class_=\"star-rating\")[\"class\"][1]\n",
        "    book_data.append({\"title\": title, \"price\": price, \"rating\": rating})\n",
        "\n",
        "book_data"
      ],
      "metadata": {
        "id": "29l64MNxtDMC",
        "colab": {
          "base_uri": "https://localhost:8080/"
        },
        "outputId": "50fed3fa-91a5-4b4c-fdce-829991516740"
      },
      "execution_count": 20,
      "outputs": [
        {
          "output_type": "execute_result",
          "data": {
            "text/plain": [
              "[{'title': 'Frankenstein', 'price': '$38.00', 'rating': 'Two'},\n",
              " {'title': 'Forever Rockers (The Rocker #12)',\n",
              "  'price': '$28.80',\n",
              "  'rating': 'Three'},\n",
              " {'title': 'Fighting Fate (Fighting #6)',\n",
              "  'price': '$39.24',\n",
              "  'rating': 'Three'},\n",
              " {'title': 'Emma', 'price': '$32.93', 'rating': 'Two'},\n",
              " {'title': 'Eat, Pray, Love', 'price': '$51.32', 'rating': 'Three'},\n",
              " {'title': 'Deep Under (Walker Security #1)',\n",
              "  'price': '$47.09',\n",
              "  'rating': 'Five'},\n",
              " {'title': \"Choosing Our Religion: The Spiritual Lives of America's Nones\",\n",
              "  'price': '$28.42',\n",
              "  'rating': 'Four'},\n",
              " {'title': 'Charlie and the Chocolate Factory (Charlie Bucket #1)',\n",
              "  'price': '$22.85',\n",
              "  'rating': 'Three'},\n",
              " {'title': \"Charity's Cross (Charles Towne Belles #4)\",\n",
              "  'price': '$41.24',\n",
              "  'rating': 'One'},\n",
              " {'title': 'Bright Lines', 'price': '$39.07', 'rating': 'Five'},\n",
              " {'title': \"Bridget Jones's Diary (Bridget Jones #1)\",\n",
              "  'price': '$29.82',\n",
              "  'rating': 'One'},\n",
              " {'title': 'Bounty (Colorado Mountain #7)',\n",
              "  'price': '$37.26',\n",
              "  'rating': 'Four'},\n",
              " {'title': 'Blood Defense (Samantha Brinkman #1)',\n",
              "  'price': '$20.30',\n",
              "  'rating': 'Three'},\n",
              " {'title': 'Bleach, Vol. 1: Strawberry and the Soul Reapers (Bleach #1)',\n",
              "  'price': '$34.65',\n",
              "  'rating': 'Five'},\n",
              " {'title': 'Beyond Good and Evil', 'price': '$43.38', 'rating': 'One'},\n",
              " {'title': \"Alice in Wonderland (Alice's Adventures in Wonderland #1)\",\n",
              "  'price': '$55.53',\n",
              "  'rating': 'One'},\n",
              " {'title': 'Ajin: Demi-Human, Volume 1 (Ajin: Demi-Human #1)',\n",
              "  'price': '$57.06',\n",
              "  'rating': 'Four'},\n",
              " {'title': \"A Spy's Devotion (The Regency Spies of London #1)\",\n",
              "  'price': '$16.97',\n",
              "  'rating': 'Five'},\n",
              " {'title': \"1st to Die (Women's Murder Club #1)\",\n",
              "  'price': '$53.98',\n",
              "  'rating': 'One'},\n",
              " {'title': '1,000 Places to See Before You Die',\n",
              "  'price': '$26.08',\n",
              "  'rating': 'Five'}]"
            ]
          },
          "metadata": {},
          "execution_count": 20
        }
      ]
    },
    {
      "cell_type": "code",
      "source": [
        "import time\n",
        "\n",
        "all_book_data = []\n",
        "base_url = \"http://books.toscrape.com/catalogue/page-{}.html\"\n",
        "\n",
        "for page in range(1, 51):  # Adjust the range based on the number of pages\n",
        "    url = base_url.format(page)\n",
        "    response = requests.get(url)\n",
        "    soup = BeautifulSoup(response.text, \"html.parser\")\n",
        "\n",
        "    for book in soup.find_all(\"article\", class_=\"product_pod\"):\n",
        "            title = book.h3.a[\"title\"]\n",
        "            price = book.find(\"p\", class_=\"price_color\").text\n",
        "            price = price.replace('Â£', '$')  # Replace the pound symbol with a dollar sign\n",
        "            rating = book.find(\"p\", class_=\"star-rating\")[\"class\"][1]\n",
        "            book_data.append({\"title\": title, \"price\": price, \"rating\": rating})\n",
        "\n",
        "    all_book_data.extend(book_data)\n",
        "    time.sleep(2)  # Add a 2-second delay between requests"
      ],
      "metadata": {
        "id": "AzCvw-pi74GS"
      },
      "execution_count": 8,
      "outputs": []
    },
    {
      "cell_type": "code",
      "source": [
        "df = pd.DataFrame(all_book_data)\n",
        "\n",
        "print(df)"
      ],
      "metadata": {
        "id": "IRe2O4jN8kDB",
        "colab": {
          "base_uri": "https://localhost:8080/"
        },
        "outputId": "fc35436b-de65-463e-a2e9-44578767c1c8"
      },
      "execution_count": 16,
      "outputs": [
        {
          "output_type": "stream",
          "name": "stdout",
          "text": [
            "                                                   title   price rating\n",
            "0                                   A Light in the Attic  $51.77  Three\n",
            "1                                     Tipping the Velvet  $53.74    One\n",
            "2                                             Soumission  $50.10    One\n",
            "3                                          Sharp Objects  $47.82   Four\n",
            "4                  Sapiens: A Brief History of Humankind  $54.23   Five\n",
            "...                                                  ...     ...    ...\n",
            "26495  Alice in Wonderland (Alice's Adventures in Won...  $55.53    One\n",
            "26496   Ajin: Demi-Human, Volume 1 (Ajin: Demi-Human #1)  $57.06   Four\n",
            "26497  A Spy's Devotion (The Regency Spies of London #1)  $16.97   Five\n",
            "26498                1st to Die (Women's Murder Club #1)  $53.98    One\n",
            "26499                 1,000 Places to See Before You Die  $26.08   Five\n",
            "\n",
            "[26500 rows x 3 columns]\n"
          ]
        }
      ]
    }
  ]
}